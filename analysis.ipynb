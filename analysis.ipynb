{
 "cells": [
  {
   "cell_type": "code",
   "execution_count": 3,
   "metadata": {},
   "outputs": [],
   "source": [
    "import pandas as pd"
   ]
  },
  {
   "cell_type": "code",
   "execution_count": 4,
   "metadata": {},
   "outputs": [
    {
     "data": {
      "text/plain": [
       "'BASICS OF COMPUTER SCIENCE Declarative Knowledge: Factual statements Imparative Knowledge: how-to statements, expressed in algorithms - steps in an exact order, such as how to perform a computation. Algorithm contains loops, telling the program to start over and repeat a process, termination code must be includedInfinite loop: missing termination code, program runs forever why are we talking about the germans i dont know what this has to do with anything Fixed Program: machine executes algorithms. Stored program computer. Operator prov'"
      ]
     },
     "execution_count": 4,
     "metadata": {},
     "output_type": "execute_result"
    }
   ],
   "source": [
    "df = pd.read_csv('note classification\\\\Notes.csv')\n",
    "\n",
    "# df.head()\n",
    "# df['ID'].nunique()\n",
    "df[df['ID'] == 6260226]['Segment1_Notes'].values[0]"
   ]
  },
  {
   "cell_type": "code",
   "execution_count": 5,
   "metadata": {},
   "outputs": [
    {
     "data": {
      "text/html": [
       "<div>\n",
       "<style scoped>\n",
       "    .dataframe tbody tr th:only-of-type {\n",
       "        vertical-align: middle;\n",
       "    }\n",
       "\n",
       "    .dataframe tbody tr th {\n",
       "        vertical-align: top;\n",
       "    }\n",
       "\n",
       "    .dataframe thead th {\n",
       "        text-align: right;\n",
       "    }\n",
       "</style>\n",
       "<table border=\"1\" class=\"dataframe\">\n",
       "  <thead>\n",
       "    <tr style=\"text-align: right;\">\n",
       "      <th></th>\n",
       "      <th>Topic</th>\n",
       "      <th>ID</th>\n",
       "      <th>Segment</th>\n",
       "      <th>IdeaUnit</th>\n",
       "      <th>label</th>\n",
       "    </tr>\n",
       "  </thead>\n",
       "  <tbody>\n",
       "    <tr>\n",
       "      <th>0</th>\n",
       "      <td>ComputerScience</td>\n",
       "      <td>6260226</td>\n",
       "      <td>1</td>\n",
       "      <td>Declarative knowledge is a factual statement.</td>\n",
       "      <td>1</td>\n",
       "    </tr>\n",
       "    <tr>\n",
       "      <th>1</th>\n",
       "      <td>ComputerScience</td>\n",
       "      <td>6260226</td>\n",
       "      <td>1</td>\n",
       "      <td>Imperative knowledge is solving a problem or a...</td>\n",
       "      <td>1</td>\n",
       "    </tr>\n",
       "    <tr>\n",
       "      <th>2</th>\n",
       "      <td>ComputerScience</td>\n",
       "      <td>6260226</td>\n",
       "      <td>1</td>\n",
       "      <td>Algorithms are instructions with steps to comp...</td>\n",
       "      <td>1</td>\n",
       "    </tr>\n",
       "    <tr>\n",
       "      <th>3</th>\n",
       "      <td>ComputerScience</td>\n",
       "      <td>6260226</td>\n",
       "      <td>1</td>\n",
       "      <td>Algorithms outline a beginning, middle, and end.</td>\n",
       "      <td>0</td>\n",
       "    </tr>\n",
       "    <tr>\n",
       "      <th>4</th>\n",
       "      <td>ComputerScience</td>\n",
       "      <td>6260226</td>\n",
       "      <td>1</td>\n",
       "      <td>Algorithms can contain a loop instruction that...</td>\n",
       "      <td>1</td>\n",
       "    </tr>\n",
       "  </tbody>\n",
       "</table>\n",
       "</div>"
      ],
      "text/plain": [
       "             Topic       ID  Segment  \\\n",
       "0  ComputerScience  6260226        1   \n",
       "1  ComputerScience  6260226        1   \n",
       "2  ComputerScience  6260226        1   \n",
       "3  ComputerScience  6260226        1   \n",
       "4  ComputerScience  6260226        1   \n",
       "\n",
       "                                            IdeaUnit  label  \n",
       "0      Declarative knowledge is a factual statement.      1  \n",
       "1  Imperative knowledge is solving a problem or a...      1  \n",
       "2  Algorithms are instructions with steps to comp...      1  \n",
       "3   Algorithms outline a beginning, middle, and end.      0  \n",
       "4  Algorithms can contain a loop instruction that...      1  "
      ]
     },
     "execution_count": 5,
     "metadata": {},
     "output_type": "execute_result"
    }
   ],
   "source": [
    "df = pd.read_csv('note classification\\\\train.csv')\n",
    "\n",
    "df.head()\n"
   ]
  },
  {
   "cell_type": "code",
   "execution_count": 6,
   "metadata": {},
   "outputs": [
    {
     "data": {
      "text/plain": [
       "'Imperative knowledge is solving a problem or accomplishing a task.'"
      ]
     },
     "execution_count": 6,
     "metadata": {},
     "output_type": "execute_result"
    }
   ],
   "source": [
    "test_df = pd.read_csv('note classification\\\\test.csv', encoding='cp1252')\n",
    "# test_df.head()\n",
    "test_df['IdeaUnit'].values[1]"
   ]
  },
  {
   "cell_type": "code",
   "execution_count": 6,
   "metadata": {},
   "outputs": [
    {
     "data": {
      "text/plain": [
       "label\n",
       " 1    1185\n",
       "-1    1002\n",
       " 0      63\n",
       "Name: count, dtype: int64"
      ]
     },
     "execution_count": 6,
     "metadata": {},
     "output_type": "execute_result"
    }
   ],
   "source": [
    "df = pd.read_csv(\"short_answer_grading\\\\short_answer_grading\\\\train.csv\")\n",
    "\n",
    "df['label'].value_counts()\n",
    "# df.tail(50)"
   ]
  }
 ],
 "metadata": {
  "kernelspec": {
   "display_name": "nlp",
   "language": "python",
   "name": "python3"
  },
  "language_info": {
   "codemirror_mode": {
    "name": "ipython",
    "version": 3
   },
   "file_extension": ".py",
   "mimetype": "text/x-python",
   "name": "python",
   "nbconvert_exporter": "python",
   "pygments_lexer": "ipython3",
   "version": "3.10.17"
  }
 },
 "nbformat": 4,
 "nbformat_minor": 2
}
